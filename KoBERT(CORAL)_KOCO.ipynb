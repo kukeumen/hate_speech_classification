{
 "cells": [
  {
   "cell_type": "code",
   "execution_count": 1,
   "id": "6026f360",
   "metadata": {},
   "outputs": [
    {
     "name": "stderr",
     "output_type": "stream",
     "text": [
      "C:\\Users\\USER\\anaconda3\\envs\\badText10\\lib\\site-packages\\numpy\\_distributor_init.py:32: UserWarning: loaded more than 1 DLL from .libs:\n",
      "C:\\Users\\USER\\anaconda3\\envs\\badText10\\lib\\site-packages\\numpy\\.libs\\libopenblas.NOIJJG62EMASZI6NYURL6JBKM4EVBGM7.gfortran-win_amd64.dll\n",
      "C:\\Users\\USER\\anaconda3\\envs\\badText10\\lib\\site-packages\\numpy\\.libs\\libopenblas.WCDJNK7YVMPZQ2ME2ZZHJJRJ3JIKNDB7.gfortran-win_amd64.dll\n",
      "  stacklevel=1)\n"
     ]
    }
   ],
   "source": [
    "import torch\n",
    "from torch import nn\n",
    "import torch.nn.functional as F\n",
    "import torch.optim as optim\n",
    "from torch.utils.data import Dataset, DataLoader\n",
    "import numpy as np\n",
    "from tqdm import tqdm\n",
    "from tqdm.notebook import tqdm"
   ]
  },
  {
   "cell_type": "code",
   "execution_count": 2,
   "id": "80a1cec9",
   "metadata": {},
   "outputs": [
    {
     "name": "stderr",
     "output_type": "stream",
     "text": [
      "C:\\Users\\USER\\AppData\\Roaming\\Python\\Python36\\site-packages\\mxnet\\optimizer\\optimizer.py:167: UserWarning: WARNING: New optimizer gluonnlp.optimizer.lamb.LAMB is overriding existing optimizer mxnet.optimizer.optimizer.LAMB\n",
      "  Optimizer.opt_registry[name].__name__))\n"
     ]
    }
   ],
   "source": [
    "from kobert.utils import get_tokenizer\n",
    "from kobert.pytorch_kobert import get_pytorch_kobert_model"
   ]
  },
  {
   "cell_type": "code",
   "execution_count": 3,
   "id": "f3f6cc64",
   "metadata": {},
   "outputs": [],
   "source": [
    "from transformers import AdamW\n",
    "from transformers.optimization import get_cosine_schedule_with_warmup"
   ]
  },
  {
   "cell_type": "code",
   "execution_count": 4,
   "id": "dfad38e1",
   "metadata": {},
   "outputs": [],
   "source": [
    "##GPU 사용 시\n",
    "device = torch.device(\"cuda:0\")"
   ]
  },
  {
   "cell_type": "code",
   "execution_count": 5,
   "id": "06ef82ed",
   "metadata": {},
   "outputs": [],
   "source": [
    "## Setting parameters\n",
    "max_len = 64\n",
    "batch_size = 64\n",
    "warmup_ratio = 0.1\n",
    "num_epochs = 10\n",
    "max_grad_norm = 1\n",
    "log_interval = 200\n",
    "learning_rate =  5e-5"
   ]
  },
  {
   "cell_type": "markdown",
   "id": "a133147d",
   "metadata": {},
   "source": [
    "# Load Dataset"
   ]
  },
  {
   "cell_type": "code",
   "execution_count": 6,
   "id": "47cae028",
   "metadata": {},
   "outputs": [],
   "source": [
    "import gluonnlp as nlp"
   ]
  },
  {
   "cell_type": "code",
   "execution_count": 7,
   "id": "183a8127",
   "metadata": {},
   "outputs": [
    {
     "name": "stdout",
     "output_type": "stream",
     "text": [
      "using cached model. C:\\Users\\USER\\Desktop\\2022_master\\KoBERT\\.cache\\kobert_news_wiki_ko_cased-1087f8699e.spiece\n",
      "using cached model. C:\\Users\\USER\\Desktop\\2022_master\\KoBERT\\.cache\\kobert_v1.zip\n",
      "using cached model. C:\\Users\\USER\\Desktop\\2022_master\\KoBERT\\.cache\\kobert_news_wiki_ko_cased-1087f8699e.spiece\n"
     ]
    }
   ],
   "source": [
    "kobert_get_tokenizer = get_tokenizer()\n",
    "kobert_model, kobert_vocab = get_pytorch_kobert_model()\n",
    "kobert_tokenizer = nlp.data.BERTSPTokenizer(kobert_get_tokenizer, kobert_vocab, lower=False)"
   ]
  },
  {
   "cell_type": "code",
   "execution_count": 8,
   "id": "0b1fbb2c",
   "metadata": {},
   "outputs": [],
   "source": [
    "data_path ='C:/Users/USER/Desktop/2021_korean_hate_speech_detection/hs_CORAL/dataset/'\n",
    "koco_train_dataset = nlp.data.TSVDataset(data_path+\"koco_hate_train.txt\", num_discard_samples=1)\n",
    "koco_test_dataset = nlp.data.TSVDataset(data_path+\"koco_hate_test.txt\", num_discard_samples=1)"
   ]
  },
  {
   "cell_type": "code",
   "execution_count": 9,
   "id": "11641e41",
   "metadata": {},
   "outputs": [],
   "source": [
    "def detokenizer(tokens):\n",
    "    decode_tokens = list()\n",
    "    for idx in tokens:\n",
    "        token = kobert_vocab.idx_to_token[idx]\n",
    "        if token == '[PAD]':\n",
    "            break\n",
    "        decode_tokens.append(token)\n",
    "    return decode_tokens"
   ]
  },
  {
   "cell_type": "code",
   "execution_count": 10,
   "id": "621ba786",
   "metadata": {},
   "outputs": [],
   "source": [
    "transform = nlp.data.BERTSentenceTransform(\n",
    "            kobert_tokenizer, max_seq_length=max_len, pad=True, pair=False)\n",
    "token_list = [transform([i[0]]) for i in koco_test_dataset]"
   ]
  },
  {
   "cell_type": "code",
   "execution_count": 11,
   "id": "40012d5f",
   "metadata": {},
   "outputs": [
    {
     "name": "stdout",
     "output_type": "stream",
     "text": [
      "짠돌이보단 낫다\n",
      "['[CLS]', '▁', '짠', '돌', '이', '보', '단', '▁', '낫', '다', '[SEP]']\n"
     ]
    }
   ],
   "source": [
    "idx = 70\n",
    "detoken_list = detokenizer(token_list[idx][0])\n",
    "print(koco_test_dataset[idx][0])\n",
    "print(detoken_list)"
   ]
  },
  {
   "cell_type": "code",
   "execution_count": 12,
   "id": "7de87db8",
   "metadata": {},
   "outputs": [],
   "source": [
    "class BERTDataset(Dataset):\n",
    "    def __init__(self, dataset, sent_idx, label_idx, bert_tokenizer, max_len,\n",
    "                 pad, pair):\n",
    "        transform = nlp.data.BERTSentenceTransform(\n",
    "            bert_tokenizer, max_seq_length=max_len, pad=pad, pair=pair)\n",
    "\n",
    "        self.sentences = [transform([i[sent_idx]]) for i in dataset]\n",
    "        self.labels = [np.int32(i[label_idx]) for i in dataset]\n",
    "\n",
    "    def __getitem__(self, i):\n",
    "        return (self.sentences[i] + (self.labels[i], ))\n",
    "\n",
    "    def __len__(self):\n",
    "        return (len(self.labels))\n"
   ]
  },
  {
   "cell_type": "code",
   "execution_count": 13,
   "id": "9d8ea4a7",
   "metadata": {},
   "outputs": [],
   "source": [
    "koco_train_BERTDataset = BERTDataset(koco_train_dataset, 0, 1, kobert_tokenizer, max_len, True, False)\n",
    "koco_test_BERTDataset = BERTDataset(koco_test_dataset, 0, 1, kobert_tokenizer, max_len, True, False)"
   ]
  },
  {
   "cell_type": "code",
   "execution_count": 14,
   "id": "5b67dc91",
   "metadata": {},
   "outputs": [
    {
     "data": {
      "text/plain": [
       "(array([   2,  517,   54,  517,   54,  517,   54,  517,   54, 4958, 7206,\n",
       "        2149, 7119, 7095, 1678, 2468,  517,   54,  517,   54,  517,   54,\n",
       "        1458, 5655,  517, 5450, 5439, 6797, 6117, 5785, 6213, 6699,  517,\n",
       "          54,  517,   54,  517,   54, 1185, 6213, 6699, 5916, 7095, 2948,\n",
       "        7766, 7088, 2149, 7416, 3166, 7318, 6224, 7864, 5703,    0,    3,\n",
       "           1,    1,    1,    1,    1,    1,    1,    1,    1]),\n",
       " array(55),\n",
       " array([0, 0, 0, 0, 0, 0, 0, 0, 0, 0, 0, 0, 0, 0, 0, 0, 0, 0, 0, 0, 0, 0,\n",
       "        0, 0, 0, 0, 0, 0, 0, 0, 0, 0, 0, 0, 0, 0, 0, 0, 0, 0, 0, 0, 0, 0,\n",
       "        0, 0, 0, 0, 0, 0, 0, 0, 0, 0, 0, 0, 0, 0, 0, 0, 0, 0, 0, 0]),\n",
       " 0)"
      ]
     },
     "execution_count": 14,
     "metadata": {},
     "output_type": "execute_result"
    }
   ],
   "source": [
    "koco_train_BERTDataset.__getitem__(1)"
   ]
  },
  {
   "cell_type": "code",
   "execution_count": 15,
   "id": "0cfdd8f6",
   "metadata": {},
   "outputs": [],
   "source": [
    "koco_train_dataloader = torch.utils.data.DataLoader(koco_train_BERTDataset, batch_size=batch_size, num_workers=0)\n",
    "koco_test_dataloader = torch.utils.data.DataLoader(koco_test_BERTDataset, batch_size=batch_size, num_workers=0)"
   ]
  },
  {
   "cell_type": "markdown",
   "id": "915df2f9",
   "metadata": {},
   "source": [
    "# Model"
   ]
  },
  {
   "cell_type": "code",
   "execution_count": 16,
   "id": "fbcf7b05",
   "metadata": {},
   "outputs": [],
   "source": [
    "from coral_pytorch.losses import CoralLoss\n",
    "from coral_pytorch.layers import CoralLayer\n",
    "from coral_pytorch.dataset import levels_from_labelbatch\n",
    "from coral_pytorch.losses import coral_loss"
   ]
  },
  {
   "cell_type": "code",
   "execution_count": 43,
   "id": "1d32ecab",
   "metadata": {},
   "outputs": [],
   "source": [
    "class BERTClassifier(nn.Module):\n",
    "    def __init__(self,\n",
    "                 bert,\n",
    "                 hidden_size = 768,\n",
    "                 num_classes=3,\n",
    "                 dr_rate=None,\n",
    "                 params=None):\n",
    "        super(BERTClassifier, self).__init__()\n",
    "        self.bert = bert\n",
    "        self.dr_rate = dr_rate\n",
    "        self.hidden_size = hidden_size\n",
    "        self.coral_layer = CoralLayer(self.hidden_size, num_classes)\n",
    "                 \n",
    "        #self.classifier = nn.Linear(hidden_size , num_classes)\n",
    "        if dr_rate:\n",
    "            self.dropout = nn.Dropout(p=dr_rate)\n",
    "    \n",
    "    def gen_attention_mask(self, token_ids, valid_length):\n",
    "        attention_mask = torch.zeros_like(token_ids)\n",
    "        for i, v in enumerate(valid_length):\n",
    "            attention_mask[i][:v] = 1\n",
    "        return attention_mask.float()\n",
    "\n",
    "    def forward(self, token_ids, valid_length, segment_ids):\n",
    "        attention_mask = self.gen_attention_mask(token_ids, valid_length)\n",
    "        \n",
    "        _, pooler = self.bert(input_ids = token_ids, token_type_ids = segment_ids.long(), attention_mask = attention_mask.float().to(token_ids.device))\n",
    "        if self.dr_rate:\n",
    "            out = self.dropout(pooler)\n",
    "            \n",
    "        self.logits = self.coral_layer(out)\n",
    "        self.probas = torch.sigmoid(self.logits)\n",
    "        return self.logits, self.probas"
   ]
  },
  {
   "cell_type": "code",
   "execution_count": 44,
   "id": "a29fef1a",
   "metadata": {},
   "outputs": [],
   "source": [
    "model = BERTClassifier(kobert_model,  dr_rate=0.5).to(device)"
   ]
  },
  {
   "cell_type": "code",
   "execution_count": 45,
   "id": "6763bda8",
   "metadata": {},
   "outputs": [],
   "source": [
    "# Prepare optimizer and schedule (linear warmup and decay)\n",
    "no_decay = ['bias', 'LayerNorm.weight']\n",
    "optimizer_grouped_parameters = [\n",
    "    {'params': [p for n, p in model.named_parameters() if not any(nd in n for nd in no_decay)], 'weight_decay': 0.01},\n",
    "    {'params': [p for n, p in model.named_parameters() if any(nd in n for nd in no_decay)], 'weight_decay': 0.0}\n",
    "]"
   ]
  },
  {
   "cell_type": "code",
   "execution_count": 46,
   "id": "9be3769f",
   "metadata": {},
   "outputs": [],
   "source": [
    "optimizer = AdamW(optimizer_grouped_parameters, lr=learning_rate)\n",
    "#loss_fn = nn.CrossEntropyLoss()"
   ]
  },
  {
   "cell_type": "code",
   "execution_count": 47,
   "id": "46886f38",
   "metadata": {},
   "outputs": [],
   "source": [
    "t_total = len(koco_train_dataloader) * num_epochs\n",
    "warmup_step = int(t_total * warmup_ratio)"
   ]
  },
  {
   "cell_type": "code",
   "execution_count": 48,
   "id": "cfe77fd2",
   "metadata": {},
   "outputs": [],
   "source": [
    "scheduler = get_cosine_schedule_with_warmup(optimizer, num_warmup_steps=warmup_step, num_training_steps=t_total)"
   ]
  },
  {
   "cell_type": "code",
   "execution_count": 49,
   "id": "a71f8683",
   "metadata": {},
   "outputs": [],
   "source": [
    "def calc_accuracy(X,Y):\n",
    "    max_vals, max_indices = torch.max(X, 1)\n",
    "    train_acc = (max_indices == Y).sum().data.cpu().numpy()/max_indices.size()[0]\n",
    "    return train_acc"
   ]
  },
  {
   "cell_type": "code",
   "execution_count": 50,
   "id": "810b9764",
   "metadata": {},
   "outputs": [],
   "source": [
    "from coral_pytorch.dataset import proba_to_label\n",
    "\n",
    "def compute_mae_and_mse(label,logits, probas):\n",
    "\n",
    "    mae, mse, acc, num_examples = 0., 0., 0., 0\n",
    "    device=torch.device(\"cpu\")\n",
    "\n",
    "    targets = label.float().to(device)\n",
    "    predicted_labels = proba_to_label(probas).float().cpu()\n",
    "\n",
    "    num_examples += targets.size(0)\n",
    "    mae += torch.sum(torch.abs(predicted_labels - targets))\n",
    "    mse += torch.sum((predicted_labels - targets)**2)\n",
    "\n",
    "    mae = mae / num_examples\n",
    "    mse = mse / num_examples\n",
    "    return mae, mse"
   ]
  },
  {
   "cell_type": "markdown",
   "id": "4c946441",
   "metadata": {},
   "source": [
    "# Train Model"
   ]
  },
  {
   "cell_type": "code",
   "execution_count": 51,
   "id": "77d4974a",
   "metadata": {},
   "outputs": [],
   "source": [
    "coral = CoralLoss()"
   ]
  },
  {
   "cell_type": "code",
   "execution_count": 52,
   "id": "5441566c",
   "metadata": {},
   "outputs": [],
   "source": [
    "iw = torch.tensor([1,1]).to(device)"
   ]
  },
  {
   "cell_type": "code",
   "execution_count": 53,
   "id": "af7f83ea",
   "metadata": {},
   "outputs": [
    {
     "data": {
      "application/vnd.jupyter.widget-view+json": {
       "model_id": "516609dbfeac4f62aca7b4e696b48e25",
       "version_major": 2,
       "version_minor": 0
      },
      "text/plain": [
       "  0%|          | 0/124 [00:00<?, ?it/s]"
      ]
     },
     "metadata": {},
     "output_type": "display_data"
    },
    {
     "name": "stdout",
     "output_type": "stream",
     "text": [
      "epoch 1 batch id 1 loss 1.57198166847229 \n",
      "epoch 1\n"
     ]
    },
    {
     "data": {
      "application/vnd.jupyter.widget-view+json": {
       "model_id": "2794f202057e42589986a37850294539",
       "version_major": 2,
       "version_minor": 0
      },
      "text/plain": [
       "  0%|          | 0/124 [00:00<?, ?it/s]"
      ]
     },
     "metadata": {},
     "output_type": "display_data"
    },
    {
     "name": "stdout",
     "output_type": "stream",
     "text": [
      "epoch 2 batch id 1 loss 0.6304812431335449 \n",
      "epoch 2\n"
     ]
    },
    {
     "data": {
      "application/vnd.jupyter.widget-view+json": {
       "model_id": "05e21126252740a1af1181ab9d0f9584",
       "version_major": 2,
       "version_minor": 0
      },
      "text/plain": [
       "  0%|          | 0/124 [00:00<?, ?it/s]"
      ]
     },
     "metadata": {},
     "output_type": "display_data"
    },
    {
     "name": "stdout",
     "output_type": "stream",
     "text": [
      "epoch 3 batch id 1 loss 0.521632194519043 \n",
      "epoch 3\n"
     ]
    },
    {
     "data": {
      "application/vnd.jupyter.widget-view+json": {
       "model_id": "ded51305d1454667a678b741cf96708d",
       "version_major": 2,
       "version_minor": 0
      },
      "text/plain": [
       "  0%|          | 0/124 [00:00<?, ?it/s]"
      ]
     },
     "metadata": {},
     "output_type": "display_data"
    },
    {
     "name": "stdout",
     "output_type": "stream",
     "text": [
      "epoch 4 batch id 1 loss 0.8633986711502075 \n",
      "epoch 4\n"
     ]
    },
    {
     "data": {
      "application/vnd.jupyter.widget-view+json": {
       "model_id": "918c258b6aa44190addb380ddbabcf0e",
       "version_major": 2,
       "version_minor": 0
      },
      "text/plain": [
       "  0%|          | 0/124 [00:00<?, ?it/s]"
      ]
     },
     "metadata": {},
     "output_type": "display_data"
    },
    {
     "name": "stdout",
     "output_type": "stream",
     "text": [
      "epoch 5 batch id 1 loss 0.5981287956237793 \n",
      "epoch 5\n"
     ]
    },
    {
     "data": {
      "application/vnd.jupyter.widget-view+json": {
       "model_id": "091464bab86d42a488507b13084f87d6",
       "version_major": 2,
       "version_minor": 0
      },
      "text/plain": [
       "  0%|          | 0/124 [00:00<?, ?it/s]"
      ]
     },
     "metadata": {},
     "output_type": "display_data"
    },
    {
     "name": "stdout",
     "output_type": "stream",
     "text": [
      "epoch 6 batch id 1 loss 0.5578042268753052 \n",
      "epoch 6\n"
     ]
    },
    {
     "data": {
      "application/vnd.jupyter.widget-view+json": {
       "model_id": "f632ea9b69964b40839e3a7ad4f89aa3",
       "version_major": 2,
       "version_minor": 0
      },
      "text/plain": [
       "  0%|          | 0/124 [00:00<?, ?it/s]"
      ]
     },
     "metadata": {},
     "output_type": "display_data"
    },
    {
     "name": "stdout",
     "output_type": "stream",
     "text": [
      "epoch 7 batch id 1 loss 0.44737890362739563 \n",
      "epoch 7\n"
     ]
    },
    {
     "data": {
      "application/vnd.jupyter.widget-view+json": {
       "model_id": "1c73361a3c81490a806b1858f10f0b14",
       "version_major": 2,
       "version_minor": 0
      },
      "text/plain": [
       "  0%|          | 0/124 [00:00<?, ?it/s]"
      ]
     },
     "metadata": {},
     "output_type": "display_data"
    },
    {
     "name": "stdout",
     "output_type": "stream",
     "text": [
      "epoch 8 batch id 1 loss 0.37373870611190796 \n",
      "epoch 8\n"
     ]
    },
    {
     "data": {
      "application/vnd.jupyter.widget-view+json": {
       "model_id": "6aa15322dcee43c2832ff8c3772773ac",
       "version_major": 2,
       "version_minor": 0
      },
      "text/plain": [
       "  0%|          | 0/124 [00:00<?, ?it/s]"
      ]
     },
     "metadata": {},
     "output_type": "display_data"
    },
    {
     "name": "stdout",
     "output_type": "stream",
     "text": [
      "epoch 9 batch id 1 loss 0.36036914587020874 \n",
      "epoch 9\n"
     ]
    },
    {
     "data": {
      "application/vnd.jupyter.widget-view+json": {
       "model_id": "49dc0e5d57f746a8beded415fc0214a6",
       "version_major": 2,
       "version_minor": 0
      },
      "text/plain": [
       "  0%|          | 0/124 [00:00<?, ?it/s]"
      ]
     },
     "metadata": {},
     "output_type": "display_data"
    },
    {
     "name": "stdout",
     "output_type": "stream",
     "text": [
      "epoch 10 batch id 1 loss 0.3584144115447998 \n",
      "epoch 10\n"
     ]
    }
   ],
   "source": [
    "num_epochs = 10\n",
    "for e in range(num_epochs):\n",
    "    model.train()\n",
    "    for batch_id, (token_ids, valid_length, segment_ids, label) in enumerate(tqdm(koco_train_dataloader)):\n",
    "        optimizer.zero_grad()\n",
    "        token_ids = token_ids.long().to(device)\n",
    "        segment_ids = segment_ids.long().to(device)\n",
    "        valid_length= valid_length\n",
    "        label = label.long().to(device)\n",
    "        logits, probas = model(token_ids, valid_length, segment_ids)\n",
    "        levels = levels_from_labelbatch(label.view(-1) , num_classes=3).to(device)\n",
    "        loss = coral(logits, levels, importance_weights=iw)\n",
    "        #loss = loss_fn(out, label) #cross_entropy loss\n",
    "        loss.backward()\n",
    "        torch.nn.utils.clip_grad_norm_(model.parameters(), max_grad_norm)\n",
    "        optimizer.step()\n",
    "        scheduler.step()  # Update learning rate schedule\n",
    "        #mae_and_mse += compute_mae_and_mse(label,logits, probas)\n",
    "        if batch_id % log_interval == 0:\n",
    "            print(\"epoch {} batch id {} loss {} \".format(e+1, batch_id+1, loss.data.cpu().numpy()))\n",
    "        \n",
    "        del loss, label, token_ids, valid_length, segment_ids\n",
    "        torch.cuda.empty_cache()\n",
    "       \n",
    "    print(\"epoch {}\".format(e+1))"
   ]
  },
  {
   "cell_type": "code",
   "execution_count": 54,
   "id": "e1427ab1",
   "metadata": {},
   "outputs": [],
   "source": [
    "torch.save(model.state_dict(), 'koco_kobert_coral_model.pt')"
   ]
  },
  {
   "cell_type": "markdown",
   "id": "d9aabfec",
   "metadata": {},
   "source": [
    "# Test Model"
   ]
  },
  {
   "cell_type": "code",
   "execution_count": 55,
   "id": "4e66394d",
   "metadata": {},
   "outputs": [
    {
     "data": {
      "application/vnd.jupyter.widget-view+json": {
       "model_id": "258948b37f304711ba2f33848b33d7f5",
       "version_major": 2,
       "version_minor": 0
      },
      "text/plain": [
       "  0%|          | 0/8 [00:00<?, ?it/s]"
      ]
     },
     "metadata": {},
     "output_type": "display_data"
    }
   ],
   "source": [
    "preds_list=[] #predict 값 list 생성\n",
    "proba_list=[]\n",
    "test_acc=0\n",
    "#model_path = 'C:/Users/USER/Desktop/2022/koco_kobert_model.pt'\n",
    "#model_path = 'koco_kobert_coral_model.pt'\n",
    "#model.load_state_dict(torch.load('koco_kobert_coral_model.pt'))\n",
    "model.eval()\n",
    "for batch_id, (token_ids, valid_length, segment_ids, label) in enumerate(tqdm(koco_test_dataloader)):\n",
    "    with torch.no_grad():\n",
    "        token_ids = token_ids.long().to(device)\n",
    "        segment_ids = segment_ids.long().to(device)\n",
    "        valid_length= valid_length\n",
    "        label = label.long().to(device)\n",
    "        logits, probas = model(token_ids, valid_length, segment_ids)\n",
    "        proba_list.extend(probas.tolist())\n",
    "        predict_labels = proba_to_label(probas)\n",
    "        preds_list.extend(predict_labels.tolist())\n",
    "        \n",
    "        del label, token_ids, valid_length, segment_ids, logits, probas\n",
    "        torch.cuda.empty_cache()"
   ]
  },
  {
   "cell_type": "markdown",
   "id": "c311d479",
   "metadata": {},
   "source": [
    "# Confusion Matrix"
   ]
  },
  {
   "cell_type": "code",
   "execution_count": 56,
   "id": "e92a7534",
   "metadata": {},
   "outputs": [],
   "source": [
    "y_test = koco_test_BERTDataset.labels\n",
    "preds_list = preds_list"
   ]
  },
  {
   "cell_type": "code",
   "execution_count": 57,
   "id": "fb5f0abf",
   "metadata": {},
   "outputs": [
    {
     "name": "stdout",
     "output_type": "stream",
     "text": [
      "              precision    recall  f1-score   support\n",
      "\n",
      "           0       0.59      0.83      0.69       160\n",
      "           1       0.54      0.44      0.48       189\n",
      "           2       0.74      0.56      0.64       122\n",
      "\n",
      "    accuracy                           0.60       471\n",
      "   macro avg       0.62      0.61      0.60       471\n",
      "weighted avg       0.61      0.60      0.59       471\n",
      "\n"
     ]
    },
    {
     "data": {
      "image/png": "[encoded data removed]",
      "text/plain": [
       "<Figure size 432x288 with 2 Axes>"
      ]
     },
     "metadata": {
      "needs_background": "light"
     },
     "output_type": "display_data"
    }
   ],
   "source": [
    "## classification_report\n",
    "from sklearn.metrics import classification_report\n",
    "clf_report = classification_report(y_test, preds_list)\n",
    "print(clf_report)\n",
    "\n",
    "# 오차행렬 생성\n",
    "from sklearn.metrics import classification_report, confusion_matrix\n",
    "cf_matrix = confusion_matrix(y_test, preds_list)\n",
    "\n",
    "# 오차행렬 시각화\n",
    "import matplotlib.pyplot as plt\n",
    "import seaborn as sns\n",
    "sns.heatmap(cf_matrix, annot=True, fmt='d', cmap='Blues')\n",
    "plt.xlabel('Predict')\n",
    "plt.ylabel('Actual')\n",
    "plt.show()"
   ]
  },
  {
   "cell_type": "code",
   "execution_count": 58,
   "id": "d03d4811",
   "metadata": {},
   "outputs": [],
   "source": [
    "from coral_pytorch.dataset import proba_to_label\n",
    "\n",
    "def compute_mae_and_mse(label, preds_list):\n",
    "\n",
    "    mae, mse = 0., 0.\n",
    "    num_examples = len(label)\n",
    "    targets = torch.tensor(label)\n",
    "    predicted_labels = torch.tensor(preds_list)\n",
    "    \n",
    "    mae += torch.sum(torch.abs(predicted_labels - targets))\n",
    "    mse += torch.sum((predicted_labels - targets)**2)\n",
    "\n",
    "    mae = mae / num_examples\n",
    "    mse = mse / num_examples\n",
    "    return mae, mse"
   ]
  },
  {
   "cell_type": "code",
   "execution_count": 59,
   "id": "46dbb3e6",
   "metadata": {},
   "outputs": [
    {
     "name": "stdout",
     "output_type": "stream",
     "text": [
      "tensor(0.4183)\n",
      "tensor(0.4607)\n"
     ]
    }
   ],
   "source": [
    "mae, mse = compute_mae_and_mse(y_test, preds_list)\n",
    "print(mae)\n",
    "print(mse)"
   ]
  },
  {
   "cell_type": "markdown",
   "id": "21a12059",
   "metadata": {},
   "source": [
    "# Threshold 설정"
   ]
  },
  {
   "cell_type": "code",
   "execution_count": null,
   "id": "58d4daba",
   "metadata": {},
   "outputs": [],
   "source": [
    "from scipy import special\n",
    "import pandas as pd\n",
    "\n",
    "def custom_proba_to_label(probas, first_threshold, second_threshold):\n",
    "    predict_levels = pd.DataFrame(probas)\n",
    "    class_O = predict_levels[0].apply(lambda x: x > first_threshold)\n",
    "    class_H = predict_levels[1].apply(lambda x: x > second_threshold)\n",
    "    labels_v3 = pd.concat([class_O, class_H], axis=1)\n",
    "    labels_v3 = labels_v3.sum(axis=1)\n",
    "    return labels_v3"
   ]
  },
  {
   "cell_type": "code",
   "execution_count": 147,
   "id": "e096f552",
   "metadata": {},
   "outputs": [],
   "source": [
    "predicts_threshold = custom_proba_to_label(proba_list, 0.1, 0.9)"
   ]
  },
  {
   "cell_type": "code",
   "execution_count": 148,
   "id": "68ddbd6f",
   "metadata": {},
   "outputs": [],
   "source": [
    "y_test = koco_test_BERTDataset.labels\n",
    "preds_list = predicts_threshold"
   ]
  },
  {
   "cell_type": "code",
   "execution_count": 149,
   "id": "2bb341be",
   "metadata": {},
   "outputs": [
    {
     "name": "stdout",
     "output_type": "stream",
     "text": [
      "              precision    recall  f1-score   support\n",
      "\n",
      "           0       0.64      0.79      0.71       160\n",
      "           1       0.58      0.58      0.58       189\n",
      "           2       0.78      0.53      0.63       122\n",
      "\n",
      "    accuracy                           0.64       471\n",
      "   macro avg       0.67      0.63      0.64       471\n",
      "weighted avg       0.65      0.64      0.64       471\n",
      "\n"
     ]
    },
    {
     "data": {
      "image/png": "[encoded data removed]",
      "text/plain": [
       "<Figure size 432x288 with 2 Axes>"
      ]
     },
     "metadata": {
      "needs_background": "light"
     },
     "output_type": "display_data"
    }
   ],
   "source": [
    "## classification_report\n",
    "from sklearn.metrics import classification_report\n",
    "clf_report = classification_report(y_test, preds_list)\n",
    "print(clf_report)\n",
    "\n",
    "# 오차행렬 생성\n",
    "from sklearn.metrics import classification_report, confusion_matrix\n",
    "cf_matrix = confusion_matrix(y_test, preds_list)\n",
    "\n",
    "# 오차행렬 시각화\n",
    "import matplotlib.pyplot as plt\n",
    "import seaborn as sns\n",
    "sns.heatmap(cf_matrix, annot=True, fmt='d', cmap='Blues')\n",
    "plt.xlabel('Predict')\n",
    "plt.ylabel('Actual')\n",
    "plt.show()"
   ]
  },
  {
   "cell_type": "code",
   "execution_count": 150,
   "id": "6ca97161",
   "metadata": {},
   "outputs": [
    {
     "name": "stdout",
     "output_type": "stream",
     "text": [
      "tensor(0.3822)\n",
      "tensor(0.4246)\n"
     ]
    }
   ],
   "source": [
    "mae, mse = compute_mae_and_mse(y_test, preds_list)\n",
    "print(mae)\n",
    "print(mse)"
   ]
  },
  {
   "cell_type": "code",
   "execution_count": 86,
   "id": "01a297b0",
   "metadata": {},
   "outputs": [
    {
     "data": {
      "text/plain": [
       "[[0.0032375261653214693, 0.0019661637488752604],\n",
       " [0.8873692154884338, 0.8269474506378174],\n",
       " [0.7873043417930603, 0.6918436288833618],\n",
       " [0.011815118603408337, 0.00719970278441906],\n",
       " [0.19128894805908203, 0.1254659742116928],\n",
       " [0.9983559250831604, 0.9972922205924988],\n",
       " [0.003235358977690339, 0.001964845461770892],\n",
       " [0.003165199887007475, 0.0019221846014261246],\n",
       " [0.003321649506688118, 0.0020173187367618084],\n",
       " [0.0031643828842788935, 0.0019216879736632109],\n",
       " [0.0031304359436035156, 0.0019010467221960425],\n",
       " [0.7388147711753845, 0.6317698955535889],\n",
       " [0.003337544621899724, 0.0020269849337637424],\n",
       " [0.9918109178543091, 0.9865698218345642],\n",
       " [0.9982138872146606, 0.9970585107803345],\n",
       " [0.6710608601570129, 0.5530463457107544],\n",
       " [0.7433798909187317, 0.6372874975204468],\n",
       " [0.9983267188072205, 0.9972442388534546],\n",
       " [0.7340567708015442, 0.6260489225387573],\n",
       " [0.1535690724849701, 0.09913452714681625],\n",
       " [0.7305470705032349, 0.6218481063842773],\n",
       " [0.8849231600761414, 0.8234502673149109],\n",
       " [0.5989693999290466, 0.475313276052475],\n",
       " [0.7316569685935974, 0.6231748461723328],\n",
       " [0.0033377460204064846, 0.0020271074026823044],\n",
       " [0.0033803631085902452, 0.0020530244801193476],\n",
       " [0.744066596031189, 0.6381198167800903],\n",
       " [0.9983955025672913, 0.9973573088645935],\n",
       " [0.20321545004844666, 0.13396838307380676],\n",
       " [0.7785245776176453, 0.6807214021682739],\n",
       " [0.7173891067504883, 0.6062431335449219],\n",
       " [0.7072896361351013, 0.5944172739982605],\n",
       " [0.003178093582391739, 0.0019300248241052032],\n",
       " [0.7337062954902649, 0.625628650188446],\n",
       " [0.0035381687339395285, 0.002148999599739909],\n",
       " [0.02453547902405262, 0.015026585198938847],\n",
       " [0.7415179014205933, 0.6350336074829102],\n",
       " [0.7156246304512024, 0.6041675806045532],\n",
       " [0.7403252720832825, 0.6335925459861755],\n",
       " [0.0030081861186772585, 0.0018267192644998431],\n",
       " [0.9977043271064758, 0.9962206482887268],\n",
       " [0.9035838842391968, 0.850394070148468],\n",
       " [0.9983353018760681, 0.9972583055496216],\n",
       " [0.9984367489814758, 0.9974253177642822],\n",
       " [0.7286434173583984, 0.6195764541625977],\n",
       " [0.7510802745819092, 0.646658182144165],\n",
       " [0.9645739197731018, 0.9429043531417847],\n",
       " [0.7762452363967896, 0.6778519749641418],\n",
       " [0.6284657120704651, 0.5064097046852112],\n",
       " [0.13581813871860504, 0.08702869713306427],\n",
       " [0.5145700573921204, 0.3913351893424988],\n",
       " [0.0030356436036527157, 0.0018434127559885383],\n",
       " [0.745735228061676, 0.6401451826095581],\n",
       " [0.7360492944717407, 0.6284410357475281],\n",
       " [0.0031520684715360403, 0.0019142002565786242],\n",
       " [0.9983117580413818, 0.9972195625305176],\n",
       " [0.0032008872367441654, 0.0019438843009993434],\n",
       " [0.7368951439857483, 0.6294581890106201],\n",
       " [0.007857033982872963, 0.004780310206115246],\n",
       " [0.003160899505019188, 0.0019195699132978916],\n",
       " [0.003347681136801839, 0.0020331493578851223],\n",
       " [0.7285555005073547, 0.6194716691970825],\n",
       " [0.003273979527875781, 0.0019883306231349707],\n",
       " [0.003616918809711933, 0.0021968986839056015],\n",
       " [0.7532749176025391, 0.6493436694145203],\n",
       " [0.003367855679243803, 0.002045418368652463],\n",
       " [0.8082175254821777, 0.7187905311584473],\n",
       " [0.5173380970954895, 0.3939782977104187],\n",
       " [0.003134330967441201, 0.0019034151919186115],\n",
       " [0.9984556436538696, 0.9974562525749207],\n",
       " [0.7073676586151123, 0.594508171081543],\n",
       " [0.003031660569831729, 0.0018409910844638944],\n",
       " [0.0033214427530765533, 0.0020171930082142353],\n",
       " [0.777884304523468, 0.679914653301239],\n",
       " [0.0033072344958782196, 0.002008552895858884],\n",
       " [0.003224243177101016, 0.0019580863881856203],\n",
       " [0.713776707649231, 0.6019982099533081],\n",
       " [0.7852351069450378, 0.6892122626304626],\n",
       " [0.004127383232116699, 0.0025074565783143044],\n",
       " [0.7422854900360107, 0.6359622478485107],\n",
       " [0.003134452970698476, 0.0019034894648939371],\n",
       " [0.7656696438789368, 0.6646350622177124],\n",
       " [0.9947010278701782, 0.9912932515144348],\n",
       " [0.020463239401578903, 0.0125123281031847],\n",
       " [0.008135229349136353, 0.004950110800564289],\n",
       " [0.028770513832569122, 0.017650000751018524],\n",
       " [0.006050521042197943, 0.003678584238514304],\n",
       " [0.003194796619936824, 0.0019401807803660631],\n",
       " [0.01862229034304619, 0.011378362774848938],\n",
       " [0.6953054666519165, 0.5805523991584778],\n",
       " [0.0033014523796737194, 0.002005036687478423],\n",
       " [0.0030888651963323355, 0.0018757713260129094],\n",
       " [0.01823553815484047, 0.01114034652709961],\n",
       " [0.8923276662826538, 0.8340685963630676],\n",
       " [0.9983762502670288, 0.9973257780075073],\n",
       " [0.11809594184160233, 0.07511939853429794],\n",
       " [0.7212929129600525, 0.6108493804931641],\n",
       " [0.9984813332557678, 0.9974984526634216],\n",
       " [0.8196720480918884, 0.7338271141052246],\n",
       " [0.9373983144760132, 0.9008152484893799],\n",
       " [0.9984273910522461, 0.9974098801612854],\n",
       " [0.9982783794403076, 0.9971646666526794],\n",
       " [0.7418854236602783, 0.6354781985282898],\n",
       " [0.7420123219490051, 0.6356316208839417],\n",
       " [0.723896861076355, 0.6139328479766846],\n",
       " [0.985974133014679, 0.9770838618278503],\n",
       " [0.7918901443481445, 0.6976972818374634],\n",
       " [0.5297940969467163, 0.40596234798431396],\n",
       " [0.0031552391592413187, 0.0019161279778927565],\n",
       " [0.7167311310768127, 0.6054686307907104],\n",
       " [0.003109617391601205, 0.0018883888842538],\n",
       " [0.676788866519928, 0.5594804286956787],\n",
       " [0.9984462857246399, 0.9974408149719238],\n",
       " [0.6124858856201172, 0.4894449710845947],\n",
       " [0.9557619690895081, 0.9290985465049744],\n",
       " [0.012038497254252434, 0.007336468901485205],\n",
       " [0.003395958337932825, 0.0020625090692192316],\n",
       " [0.7665199637413025, 0.6656919121742249],\n",
       " [0.997678816318512, 0.9961786270141602],\n",
       " [0.9976346492767334, 0.9961062073707581],\n",
       " [0.0034323071595281363, 0.0020846149418503046],\n",
       " [0.014116001315414906, 0.008609607815742493],\n",
       " [0.7498352527618408, 0.6451376676559448],\n",
       " [0.0030605115462094545, 0.0018585321959108114],\n",
       " [0.0035034404136240482, 0.00212787720374763],\n",
       " [0.007231682538986206, 0.004398753400892019],\n",
       " [0.003245689207687974, 0.0019711272325366735],\n",
       " [0.7984111905097961, 0.7060744166374207],\n",
       " [0.9985337257385254, 0.9975848197937012],\n",
       " [0.9974518418312073, 0.9958058595657349],\n",
       " [0.007519821170717478, 0.00457453727722168],\n",
       " [0.06277891993522644, 0.03904173523187637],\n",
       " [0.997891366481781, 0.9965282082557678],\n",
       " [0.0036688887048512697, 0.0022285105660557747],\n",
       " [0.7314924597740173, 0.6229780912399292],\n",
       " [0.0030194621067494154, 0.0018335747299715877],\n",
       " [0.003245406784117222, 0.001970955403521657],\n",
       " [0.00321605964563787, 0.0019531100988388062],\n",
       " [0.7296215295791626, 0.6207429766654968],\n",
       " [0.7352393865585327, 0.6274680495262146],\n",
       " [0.04406922683119774, 0.02720099687576294],\n",
       " [0.7830732464790344, 0.6864697337150574],\n",
       " [0.0031671440228819847, 0.001923366799019277],\n",
       " [0.003273492678999901, 0.0019880342297255993],\n",
       " [0.8155784606933594, 0.7284303903579712],\n",
       " [0.003090956946834922, 0.001877042930573225],\n",
       " [0.003127133706584573, 0.001899039139971137],\n",
       " [0.9978305697441101, 0.9964283108711243],\n",
       " [0.00320869660936296, 0.0019486331148073077],\n",
       " [0.9806143045425415, 0.9684354066848755],\n",
       " [0.004066540393978357, 0.002470433944836259],\n",
       " [0.9845829010009766, 0.9748332500457764],\n",
       " [0.0034369847271591425, 0.0020874596666544676],\n",
       " [0.7129893898963928, 0.6010752320289612],\n",
       " [0.004747839644551277, 0.0028850999660789967],\n",
       " [0.8780378699302673, 0.8136614561080933],\n",
       " [0.7359943985939026, 0.6283751130104065],\n",
       " [0.0034570731222629547, 0.002099676989018917],\n",
       " [0.7252428531646729, 0.615530252456665],\n",
       " [0.15400701761245728, 0.0994354709982872],\n",
       " [0.0035611921921372414, 0.002163003198802471],\n",
       " [0.0031097857281565666, 0.0018884914461523294],\n",
       " [0.6629118323326111, 0.5439606308937073],\n",
       " [0.7279864549636841, 0.6187934875488281],\n",
       " [0.0032254739198833704, 0.001958834705874324],\n",
       " [0.0032033573370426893, 0.0019453864078968763],\n",
       " [0.0030644377693533897, 0.0018609194085001945],\n",
       " [0.0034640308003872633, 0.0021039084531366825],\n",
       " [0.0037212204188108444, 0.0022603438701480627],\n",
       " [0.008510812185704708, 0.005179413128644228],\n",
       " [0.9984909296035767, 0.9975143671035767],\n",
       " [0.004570348653942347, 0.002777050482109189],\n",
       " [0.0032777832821011543, 0.001990643562749028],\n",
       " [0.99580317735672, 0.9930993318557739],\n",
       " [0.9898712038993835, 0.9834094047546387],\n",
       " [0.9985259175300598, 0.9975720047950745],\n",
       " [0.032628148794174194, 0.020047342404723167],\n",
       " [0.003141621593385935, 0.0019078482873737812],\n",
       " [0.0032613766379654408, 0.00198066676966846],\n",
       " [0.7676846385002136, 0.6671410799026489],\n",
       " [0.0031908443197607994, 0.0019377779681235552],\n",
       " [0.6673105955123901, 0.548855185508728],\n",
       " [0.0033960200380533934, 0.0020625463221222162],\n",
       " [0.0030439714901149273, 0.001848476123996079],\n",
       " [0.189123272895813, 0.12393131107091904],\n",
       " [0.0031751266214996576, 0.0019282206194475293],\n",
       " [0.9963120818138123, 0.9939340949058533],\n",
       " [0.8229373693466187, 0.7381502985954285],\n",
       " [0.7609657645225525, 0.6588069200515747],\n",
       " [0.003108432050794363, 0.0018876682734116912],\n",
       " [0.6172153353691101, 0.4944365322589874],\n",
       " [0.7251640558242798, 0.6154367327690125],\n",
       " [0.0059999944642186165, 0.0036477926187217236],\n",
       " [0.004161273594945669, 0.002528079319745302],\n",
       " [0.9803798198699951, 0.9680583477020264],\n",
       " [0.9958307147026062, 0.9931446313858032],\n",
       " [0.9975773692131042, 0.9960119724273682],\n",
       " [0.7072508335113525, 0.5943720936775208],\n",
       " [0.7781645655632019, 0.6802676916122437],\n",
       " [0.4638047218322754, 0.34410932660102844],\n",
       " [0.003078433917835355, 0.0018694291356950998],\n",
       " [0.7566030621528625, 0.6534287929534912],\n",
       " [0.0033086808398365974, 0.002009432530030608],\n",
       " [0.7327646613121033, 0.6245004534721375],\n",
       " [0.36600878834724426, 0.25934457778930664],\n",
       " [0.00311916321516037, 0.0018941930029541254],\n",
       " [0.0033874367363750935, 0.0020573262590914965],\n",
       " [0.9982883334159851, 0.9971811771392822],\n",
       " [0.0030428289901465178, 0.0018477811245247722],\n",
       " [0.003117660293355584, 0.0018932789098471403],\n",
       " [0.8432394862174988, 0.7654026746749878],\n",
       " [0.9832360148429871, 0.9726582169532776],\n",
       " [0.759450376033783, 0.6569357514381409],\n",
       " [0.9984869956970215, 0.9975079298019409],\n",
       " [0.0030517347622662783, 0.001853196183219552],\n",
       " [0.9985122084617615, 0.9975494742393494],\n",
       " [0.4925684332847595, 0.3705802857875824],\n",
       " [0.0033278907649219036, 0.0020211143419146538],\n",
       " [0.9972589015960693, 0.9954888224601746],\n",
       " [0.01760334149003029, 0.010751434601843357],\n",
       " [0.03277361020445824, 0.020137883722782135],\n",
       " [0.019223099574446678, 0.011748259887099266],\n",
       " [0.018275141716003418, 0.011164714582264423],\n",
       " [0.6403712034225464, 0.5192344784736633],\n",
       " [0.9953281879425049, 0.992320716381073],\n",
       " [0.7457029819488525, 0.6401059627532959],\n",
       " [0.7258308529853821, 0.6162288188934326],\n",
       " [0.003585290163755417, 0.002177660586312413],\n",
       " [0.0033205747604370117, 0.002016665181145072],\n",
       " [0.003183003980666399, 0.001933010295033455],\n",
       " [0.00337998871691525, 0.002052796771749854],\n",
       " [0.9983820915222168, 0.9973351359367371],\n",
       " [0.0037832679226994514, 0.002298088977113366],\n",
       " [0.0031358401756733656, 0.0019043328939005733],\n",
       " [0.0036473763175308704, 0.00221542501822114],\n",
       " [0.4113837480545044, 0.2977055311203003],\n",
       " [0.004245883319526911, 0.0025795677211135626],\n",
       " [0.0034947609528899193, 0.0021225987002253532],\n",
       " [0.0032314786221832037, 0.001962485956028104],\n",
       " [0.003231868613511324, 0.001962723210453987],\n",
       " [0.003333179047331214, 0.002024330198764801],\n",
       " [0.9983285069465637, 0.9972471594810486],\n",
       " [0.940759539604187, 0.9059436917304993],\n",
       " [0.8773690462112427, 0.8127149343490601],\n",
       " [0.0032675687689334154, 0.0019844321068376303],\n",
       " [0.8300428986549377, 0.747614860534668],\n",
       " [0.12196604907512665, 0.07770521193742752],\n",
       " [0.0034222565591335297, 0.0020785024389624596],\n",
       " [0.676094114780426, 0.5586979389190674],\n",
       " [0.9868009090423584, 0.9784231781959534],\n",
       " [0.6510131359100342, 0.5308347344398499],\n",
       " [0.003393980674445629, 0.002061306033283472],\n",
       " [0.00323473010212183, 0.0019644631538540125],\n",
       " [0.003130583092570305, 0.001901136478409171],\n",
       " [0.9975938200950623, 0.9960390329360962],\n",
       " [0.003071002895012498, 0.0018649109406396747],\n",
       " [0.0030756520573049784, 0.0018677376210689545],\n",
       " [0.003498579142615199, 0.0021249207202345133],\n",
       " [0.7183080911636353, 0.6073256731033325],\n",
       " [0.018025163561105728, 0.011010906659066677],\n",
       " [0.0031493501737713814, 0.0019125473918393254],\n",
       " [0.0033443861175328493, 0.002031145617365837],\n",
       " [0.004076769109815359, 0.002476658206433058],\n",
       " [0.5333335995674133, 0.40939489006996155],\n",
       " [0.9920957684516907, 0.9870346188545227],\n",
       " [0.7814843654632568, 0.6844585537910461],\n",
       " [0.003171425312757492, 0.001925970078445971],\n",
       " [0.0068185534328222275, 0.004146786872297525],\n",
       " [0.0032568087335675955, 0.0019778891000896692],\n",
       " [0.7107301950454712, 0.5984313488006592],\n",
       " [0.7842409014701843, 0.6879503130912781],\n",
       " [0.7921372652053833, 0.6980136632919312],\n",
       " [0.7197445631027222, 0.6090200543403625],\n",
       " [0.9983044862747192, 0.9972075819969177],\n",
       " [0.0033189954701811075, 0.002015704521909356],\n",
       " [0.0032281228341162205, 0.0019604454282671213],\n",
       " [0.0030447733588516712, 0.0018489636713638902],\n",
       " [0.0031632324680685997, 0.001920988317579031],\n",
       " [0.004258621018379927, 0.002587319351732731],\n",
       " [0.9977709054946899, 0.996330201625824],\n",
       " [0.799491822719574, 0.7074686288833618],\n",
       " [0.6852189302444458, 0.5690217614173889],\n",
       " [0.7038595080375671, 0.5904303193092346],\n",
       " [0.8241533041000366, 0.7397642731666565],\n",
       " [0.7342739105224609, 0.626309335231781],\n",
       " [0.6353327035903931, 0.5137873291969299],\n",
       " [0.9984186887741089, 0.9973955154418945],\n",
       " [0.0031585190445184708, 0.0019181225216016173],\n",
       " [0.4986031949520111, 0.37622854113578796],\n",
       " [0.99747234582901, 0.9958394765853882],\n",
       " [0.7558107972145081, 0.6524549722671509],\n",
       " [0.7411400079727173, 0.6345767974853516],\n",
       " [0.7238576412200928, 0.613886296749115],\n",
       " [0.7893576622009277, 0.6944608688354492],\n",
       " [0.003196151228621602, 0.0019410047680139542],\n",
       " [0.6043813228607178, 0.4809478521347046],\n",
       " [0.09687282890081406, 0.06108466908335686],\n",
       " [0.38558217883110046, 0.2756943106651306],\n",
       " [0.7432993650436401, 0.6371899247169495],\n",
       " [0.7186628580093384, 0.6077439188957214],\n",
       " [0.003747536800801754, 0.002276352373883128],\n",
       " [0.9976842403411865, 0.9961877465248108],\n",
       " [0.7376496195793152, 0.6303662061691284],\n",
       " [0.0031173310708254576, 0.0018930789083242416],\n",
       " [0.7268710732460022, 0.6174656748771667],\n",
       " [0.003242022590711713, 0.001968897646293044],\n",
       " [0.0033594954293221235, 0.0020403340458869934],\n",
       " [0.568425714969635, 0.4440925121307373],\n",
       " [0.466509610414505, 0.3465673327445984],\n",
       " [0.9229834675788879, 0.8790634274482727],\n",
       " [0.7203355431556702, 0.6097179651260376],\n",
       " [0.003213874064385891, 0.0019517813343554735],\n",
       " [0.0036059648264199495, 0.0021902357693761587],\n",
       " [0.0030508532654494047, 0.0018526599742472172],\n",
       " [0.998369038105011, 0.997313916683197],\n",
       " [0.0034166264813393354, 0.002075078198686242],\n",
       " [0.15368440747261047, 0.09921378642320633],\n",
       " [0.0032507034484297037, 0.0019741763826459646],\n",
       " [0.0033046265598386526, 0.0020069668535143137],\n",
       " [0.9984305500984192, 0.9974150657653809],\n",
       " [0.9949530363082886, 0.9917060136795044],\n",
       " [0.9984610080718994, 0.9974652528762817],\n",
       " [0.9400822520256042, 0.9049085378646851],\n",
       " [0.003189739305526018, 0.0019371057860553265],\n",
       " [0.7099146842956543, 0.597478449344635],\n",
       " [0.7418952584266663, 0.6354900598526001],\n",
       " [0.6117996573448181, 0.4887227416038513],\n",
       " [0.9984357953071594, 0.9974236488342285],\n",
       " [0.9983755350112915, 0.9973245859146118],\n",
       " [0.9385422468185425, 0.9025580883026123],\n",
       " [0.9982067346572876, 0.9970467686653137],\n",
       " [0.9769999980926514, 0.9626369476318359],\n",
       " [0.0074660624377429485, 0.004541737958788872],\n",
       " [0.7347928881645203, 0.6269320845603943],\n",
       " [0.0032960500102490187, 0.0020017512142658234],\n",
       " [0.9681230187416077, 0.9485086798667908],\n",
       " [0.9984234571456909, 0.9974033236503601],\n",
       " [0.004487875383347273, 0.0027268491685390472],\n",
       " [0.0036333638709038496, 0.002206901554018259],\n",
       " [0.7318902015686035, 0.6234537959098816],\n",
       " [0.9985260963439941, 0.9975723624229431],\n",
       " [0.676912784576416, 0.5596200227737427],\n",
       " [0.9983805418014526, 0.9973328113555908],\n",
       " [0.9984700083732605, 0.9974799752235413],\n",
       " [0.72434401512146, 0.6144633293151855],\n",
       " [0.7344350814819336, 0.6265026926994324],\n",
       " [0.04260553419589996, 0.026282157748937607],\n",
       " [0.9980021119117737, 0.9967103004455566],\n",
       " [0.007817105390131474, 0.004755942616611719],\n",
       " [0.003407384268939495, 0.002069457434117794],\n",
       " [0.003071017563343048, 0.0018649199046194553],\n",
       " [0.9984567165374756, 0.9974580407142639],\n",
       " [0.7525925636291504, 0.6485080122947693],\n",
       " [0.0030202257912606, 0.0018340389942750335],\n",
       " [0.7539429664611816, 0.6501624584197998],\n",
       " [0.003222521161660552, 0.001957039348781109],\n",
       " [0.713456928730011, 0.6016231775283813],\n",
       " [0.0032501902896910906, 0.0019738643895834684],\n",
       " [0.003450944786891341, 0.0020959496032446623],\n",
       " [0.7402374744415283, 0.6334865093231201],\n",
       " [0.5619118809700012, 0.43755894899368286],\n",
       " [0.7361288666725159, 0.6285367608070374],\n",
       " [0.9983623623847961, 0.997302770614624],\n",
       " [0.14090415835380554, 0.09047898650169373],\n",
       " [0.00321655604057014, 0.0019534120801836252],\n",
       " [0.003715218510478735, 0.0022566928528249264],\n",
       " [0.664383590221405, 0.545595645904541],\n",
       " [0.14817404747009277, 0.0954362228512764],\n",
       " [0.9838473200798035, 0.9736449122428894],\n",
       " [0.003282155841588974, 0.0019933024886995554],\n",
       " [0.1676257699728012, 0.10884939879179001],\n",
       " [0.003172791562974453, 0.0019268005853518844],\n",
       " [0.9978504180908203, 0.9964608550071716],\n",
       " [0.12820520997047424, 0.08189138770103455],\n",
       " [0.6238163113594055, 0.5014445781707764],\n",
       " [0.003292644629254937, 0.0019996806513518095],\n",
       " [0.7194620966911316, 0.6086866855621338],\n",
       " [0.00330171431414783, 0.002005196176469326],\n",
       " [0.9984815716743469, 0.9974988102912903],\n",
       " [0.0030853035859763622, 0.0018736057681962848],\n",
       " [0.2053009420633316, 0.13546404242515564],\n",
       " [0.7799192070960999, 0.6824806928634644],\n",
       " [0.038535404950380325, 0.023732753470540047],\n",
       " [0.0033256870228797197, 0.0020197739358991385],\n",
       " [0.0032394209410995245, 0.0019673157949000597],\n",
       " [0.004664287902414799, 0.002834235318005085],\n",
       " [0.003452515695244074, 0.0020969053730368614],\n",
       " [0.9958140254020691, 0.993117094039917],\n",
       " [0.07744045555591583, 0.04844618961215019],\n",
       " [0.900458574295044, 0.8458387851715088],\n",
       " [0.7396916151046753, 0.6328275799751282],\n",
       " [0.7268592119216919, 0.617451548576355],\n",
       " [0.004588343668729067, 0.0027880046982318163],\n",
       " [0.7548506259918213, 0.6512758135795593],\n",
       " [0.9944721460342407, 0.9909186363220215],\n",
       " [0.8087611198425293, 0.7194995284080505],\n",
       " [0.9863256812095642, 0.9776530265808105],\n",
       " [0.0033353229518979788, 0.0020256340503692627],\n",
       " [0.005013986490666866, 0.0030471482314169407],\n",
       " [0.7219950556755066, 0.6116799116134644],\n",
       " [0.8928350806236267, 0.8347996473312378],\n",
       " [0.7416999340057373, 0.6352538466453552],\n",
       " [0.0032598967663943768, 0.0019797668792307377],\n",
       " [0.9981703758239746, 0.9969870448112488],\n",
       " [0.7441044449806213, 0.6381658315658569],\n",
       " [0.8291637301445007, 0.746439516544342],\n",
       " [0.0030412061605602503, 0.0018467947375029325],\n",
       " [0.0030755833722651005, 0.0018676957115530968],\n",
       " [0.9984492063522339, 0.997445821762085],\n",
       " [0.7104606628417969, 0.5981162786483765],\n",
       " [0.0031154232565313578, 0.0018919188296422362],\n",
       " [0.003983499947935343, 0.0024199075996875763],\n",
       " [0.003384461859241128, 0.002055517164990306],\n",
       " [0.024584196507930756, 0.015056716278195381],\n",
       " [0.5204475522041321, 0.39695608615875244],\n",
       " [0.7634791731834412, 0.6619172096252441],\n",
       " [0.00314275361597538, 0.001908536534756422],\n",
       " [0.0033752054441720247, 0.0020498877856880426],\n",
       " [0.9970589876174927, 0.9951601624488831],\n",
       " [0.003122140420600772, 0.0018960031447932124],\n",
       " [0.006843443959951401, 0.004161965101957321],\n",
       " [0.7209011912345886, 0.6103862524032593],\n",
       " [0.673005998134613, 0.5552268624305725],\n",
       " [0.8712138533592224, 0.8040392994880676],\n",
       " [0.014784795232117176, 0.009019903838634491],\n",
       " [0.9984101057052612, 0.9973815083503723],\n",
       " [0.9984050393104553, 0.9973729848861694],\n",
       " [0.0031513103749603033, 0.0019137392519041896],\n",
       " [0.0032571153715252876, 0.0019780753646045923],\n",
       " [0.9912720322608948, 0.9856911301612854],\n",
       " [0.7352673411369324, 0.6275016665458679],\n",
       " [0.6560906171798706, 0.5364156365394592],\n",
       " [0.9983737468719482, 0.9973216652870178],\n",
       " [0.830359935760498, 0.7480389475822449],\n",
       " [0.8690919280052185, 0.8010633587837219],\n",
       " [0.6760149002075195, 0.5586087703704834],\n",
       " [0.0031131580471992493, 0.0018905415199697018],\n",
       " [0.0033823358826339245, 0.0020542244892567396],\n",
       " [0.003673702711239457, 0.0022314388770610094],\n",
       " [0.9977315068244934, 0.9962654709815979],\n",
       " [0.006060850340873003, 0.00368487904779613],\n",
       " [0.012752600014209747, 0.007773850578814745],\n",
       " [0.033298246562480927, 0.02046453021466732],\n",
       " [0.7175849080085754, 0.6064736843109131],\n",
       " [0.0031002480536699295, 0.0018826921004801989],\n",
       " [0.9984092116355896, 0.9973798394203186],\n",
       " [0.9923540353775024, 0.9874561429023743],\n",
       " [0.004288352560251951, 0.002605413319543004],\n",
       " [0.9791101217269897, 0.966018795967102],\n",
       " [0.0033303399104624987, 0.0020226037595421076],\n",
       " [0.00334773026406765, 0.0020331793930381536],\n",
       " [0.0031552466098219156, 0.0019161325180903077],\n",
       " [0.20805048942565918, 0.1374400407075882],\n",
       " [0.9818108677864075, 0.9703609943389893],\n",
       " [0.003339531132951379, 0.0020281928591430187],\n",
       " [0.003357572015374899, 0.00203916453756392],\n",
       " [0.004393979907035828, 0.0026696992572396994],\n",
       " [0.10649532824754715, 0.06741766631603241],\n",
       " [0.7344536781311035, 0.6265249848365784],\n",
       " [0.003294646739959717, 0.0020008981227874756],\n",
       " [0.989144504070282, 0.9822273850440979],\n",
       " [0.003167654387652874, 0.0019236772786825895],\n",
       " [0.9979206919670105, 0.9965763688087463],\n",
       " [0.9984177350997925, 0.9973940849304199],\n",
       " [0.7303396463394165, 0.6216003894805908],\n",
       " [0.0032171232160180807, 0.0019537569023668766],\n",
       " [0.003199382685124874, 0.0019429696258157492],\n",
       " [0.7438753843307495, 0.6378880739212036],\n",
       " [0.007727877236902714, 0.004701490048319101],\n",
       " [0.9984115362167358, 0.9973836541175842],\n",
       " [0.7451322078704834, 0.6394128203392029]]"
      ]
     },
     "execution_count": 86,
     "metadata": {},
     "output_type": "execute_result"
    }
   ],
   "source": [
    "proba_list"
   ]
  },
  {
   "cell_type": "code",
   "execution_count": null,
   "id": "2f2bdbb1",
   "metadata": {},
   "outputs": [],
   "source": []
  },
  {
   "cell_type": "markdown",
   "id": "0beaa060",
   "metadata": {},
   "source": [
    "# Kaggle Data"
   ]
  },
  {
   "cell_type": "code",
   "execution_count": 60,
   "id": "36e927f0",
   "metadata": {},
   "outputs": [],
   "source": [
    "import pandas as pd\n",
    "kaggle_hate_dataset = nlp.data.TSVDataset(data_path+\"kaggle_hate_test.txt\", num_discard_samples=1)\n",
    "kaggle_hate_df = pd.read_csv(data_path+\"kaggle_hate_test.txt\", sep='\\t')\n",
    "kaggle_test_BERTDataset = BERTDataset(kaggle_hate_dataset, 0, 1, kobert_tokenizer, max_len, True, False)\n",
    "kaggle_test_dataloader = torch.utils.data.DataLoader(kaggle_test_BERTDataset, batch_size=batch_size, num_workers=0)"
   ]
  },
  {
   "cell_type": "code",
   "execution_count": 61,
   "id": "bfac678a",
   "metadata": {},
   "outputs": [
    {
     "data": {
      "application/vnd.jupyter.widget-view+json": {
       "model_id": "0bd1b645f9794a4e8bbf5dcacffe1902",
       "version_major": 2,
       "version_minor": 0
      },
      "text/plain": [
       "  0%|          | 0/16 [00:00<?, ?it/s]"
      ]
     },
     "metadata": {},
     "output_type": "display_data"
    }
   ],
   "source": [
    "preds_list=[] #predict 값 list 생성\n",
    "proba_list=[]\n",
    "test_acc=0\n",
    "#model_path = 'C:/Users/USER/Desktop/2022/koco_kobert_model.pt'\n",
    "#model_path = 'koco_kobert_coral_model.pt'\n",
    "#model.load_state_dict(torch.load('koco_kobert_coral_model.pt'))\n",
    "model.eval()\n",
    "for batch_id, (token_ids, valid_length, segment_ids, label) in enumerate(tqdm(kaggle_test_dataloader)):\n",
    "    with torch.no_grad():\n",
    "        token_ids = token_ids.long().to(device)\n",
    "        segment_ids = segment_ids.long().to(device)\n",
    "        valid_length= valid_length\n",
    "        label = label.long().to(device)\n",
    "        logits, probas = model(token_ids, valid_length, segment_ids)\n",
    "        proba_list.extend(probas.tolist())\n",
    "        predict_labels = proba_to_label(probas)\n",
    "        preds_list.extend(predict_labels.tolist())\n",
    "        \n",
    "        del label, token_ids, valid_length, segment_ids, logits, probas\n",
    "        torch.cuda.empty_cache()"
   ]
  },
  {
   "cell_type": "code",
   "execution_count": 62,
   "id": "1ff7f8ba",
   "metadata": {},
   "outputs": [],
   "source": [
    "preds_list = preds_list"
   ]
  },
  {
   "cell_type": "code",
   "execution_count": 63,
   "id": "92db4492",
   "metadata": {},
   "outputs": [
    {
     "data": {
      "text/html": [
       "<div>\n",
       "<style scoped>\n",
       "    .dataframe tbody tr th:only-of-type {\n",
       "        vertical-align: middle;\n",
       "    }\n",
       "\n",
       "    .dataframe tbody tr th {\n",
       "        vertical-align: top;\n",
       "    }\n",
       "\n",
       "    .dataframe thead th {\n",
       "        text-align: right;\n",
       "    }\n",
       "</style>\n",
       "<table border=\"1\" class=\"dataframe\">\n",
       "  <thead>\n",
       "    <tr style=\"text-align: right;\">\n",
       "      <th></th>\n",
       "      <th>comments</th>\n",
       "      <th>label</th>\n",
       "    </tr>\n",
       "  </thead>\n",
       "  <tbody>\n",
       "    <tr>\n",
       "      <th>0</th>\n",
       "      <td>ㅋㅋㅋㅋ 그래도 조아해주는 팬들 많아서 좋겠다 ㅠㅠ 니들은 온유가 안만져줌 ㅠㅠ</td>\n",
       "      <td>1</td>\n",
       "    </tr>\n",
       "    <tr>\n",
       "      <th>1</th>\n",
       "      <td>둘다 넘 좋다~행복하세요</td>\n",
       "      <td>0</td>\n",
       "    </tr>\n",
       "    <tr>\n",
       "      <th>2</th>\n",
       "      <td>근데 만원이하는 현금결제만 하라고 써놓은집 우리나라에 엄청 많은데</td>\n",
       "      <td>0</td>\n",
       "    </tr>\n",
       "    <tr>\n",
       "      <th>3</th>\n",
       "      <td>원곡생각하나도 안나고 러블리즈 신곡나온줄!!! 너무 예쁘게 잘봤어요</td>\n",
       "      <td>0</td>\n",
       "    </tr>\n",
       "    <tr>\n",
       "      <th>4</th>\n",
       "      <td>장현승 얘도 참 이젠 짠하다...</td>\n",
       "      <td>1</td>\n",
       "    </tr>\n",
       "    <tr>\n",
       "      <th>...</th>\n",
       "      <td>...</td>\n",
       "      <td>...</td>\n",
       "    </tr>\n",
       "    <tr>\n",
       "      <th>969</th>\n",
       "      <td>대박 게스트... 꼭 봐야징~ 컨셉이 바뀌니깐 재미지넹</td>\n",
       "      <td>0</td>\n",
       "    </tr>\n",
       "    <tr>\n",
       "      <th>970</th>\n",
       "      <td>성형으로 다 뜯어고쳐놓고 예쁜척. 성형 전 니 얼굴 다 알고있다. 순자처럼 된장냄새...</td>\n",
       "      <td>2</td>\n",
       "    </tr>\n",
       "    <tr>\n",
       "      <th>971</th>\n",
       "      <td>분위기는 비슷하다만 전혀다른 전개던데 무슨ㅋㅋㄱ 우리나라사람들은 분위기만 비슷하면 ...</td>\n",
       "      <td>0</td>\n",
       "    </tr>\n",
       "    <tr>\n",
       "      <th>972</th>\n",
       "      <td>입에 손가릭이 10개 있으니 징그럽다</td>\n",
       "      <td>2</td>\n",
       "    </tr>\n",
       "    <tr>\n",
       "      <th>973</th>\n",
       "      <td>난 조보아 이뻐서 보는데 백종원 관심무</td>\n",
       "      <td>0</td>\n",
       "    </tr>\n",
       "  </tbody>\n",
       "</table>\n",
       "<p>974 rows × 2 columns</p>\n",
       "</div>"
      ],
      "text/plain": [
       "                                              comments  label\n",
       "0         ㅋㅋㅋㅋ 그래도 조아해주는 팬들 많아서 좋겠다 ㅠㅠ 니들은 온유가 안만져줌 ㅠㅠ      1\n",
       "1                                        둘다 넘 좋다~행복하세요      0\n",
       "2                 근데 만원이하는 현금결제만 하라고 써놓은집 우리나라에 엄청 많은데      0\n",
       "3                원곡생각하나도 안나고 러블리즈 신곡나온줄!!! 너무 예쁘게 잘봤어요      0\n",
       "4                                   장현승 얘도 참 이젠 짠하다...      1\n",
       "..                                                 ...    ...\n",
       "969                     대박 게스트... 꼭 봐야징~ 컨셉이 바뀌니깐 재미지넹      0\n",
       "970  성형으로 다 뜯어고쳐놓고 예쁜척. 성형 전 니 얼굴 다 알고있다. 순자처럼 된장냄새...      2\n",
       "971  분위기는 비슷하다만 전혀다른 전개던데 무슨ㅋㅋㄱ 우리나라사람들은 분위기만 비슷하면 ...      0\n",
       "972                               입에 손가릭이 10개 있으니 징그럽다      2\n",
       "973                              난 조보아 이뻐서 보는데 백종원 관심무      0\n",
       "\n",
       "[974 rows x 2 columns]"
      ]
     },
     "execution_count": 63,
     "metadata": {},
     "output_type": "execute_result"
    }
   ],
   "source": [
    "pred_df = pd.DataFrame(preds_list)\n",
    "kaggle_df = pd.concat([kaggle_hate_df['comments'], pred_df[0]], axis=1)\n",
    "kaggle_df.columns = ['comments', 'label']\n",
    "kaggle_df"
   ]
  },
  {
   "cell_type": "code",
   "execution_count": 64,
   "id": "51070cba",
   "metadata": {},
   "outputs": [],
   "source": [
    "kaggle_df.to_csv(\"kaggle_hate_KoBERT_CORAL.csv\", index=False, encoding='utf-8')"
   ]
  },
  {
   "cell_type": "code",
   "execution_count": null,
   "id": "30b7e1c4",
   "metadata": {},
   "outputs": [],
   "source": []
  },
  {
   "cell_type": "code",
   "execution_count": null,
   "id": "eca7cde3",
   "metadata": {},
   "outputs": [],
   "source": []
  }
 ],
 "metadata": {
  "kernelspec": {
   "display_name": "badText10",
   "language": "python",
   "name": "badtext10"
  },
  "language_info": {
   "codemirror_mode": {
    "name": "ipython",
    "version": 3
   },
   "file_extension": ".py",
   "mimetype": "text/x-python",
   "name": "python",
   "nbconvert_exporter": "python",
   "pygments_lexer": "ipython3",
   "version": "3.6.3"
  }
 },
 "nbformat": 4,
 "nbformat_minor": 5
}
